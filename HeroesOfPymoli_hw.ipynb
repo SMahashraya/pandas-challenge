{
 "cells": [
  {
   "cell_type": "markdown",
   "metadata": {},
   "source": [
    "### Heroes Of Pymoli Data Analysis\n",
    "* Of the 1163 active players, the vast majority are male (84%). There also exists, a smaller, but notable proportion of female players (14%).\n",
    "\n",
    "* Our peak age demographic falls between 20-24 (44.8%) with secondary groups falling between 15-19 (18.60%) and 25-29 (13.4%).  \n",
    "-----"
   ]
  },
  {
   "cell_type": "markdown",
   "metadata": {},
   "source": [
    "### Note\n",
    "* Instructions have been included for each segment. You do not have to follow them exactly, but they are included to help you think through the steps."
   ]
  },
  {
   "cell_type": "code",
   "execution_count": 22,
   "metadata": {},
   "outputs": [
    {
     "data": {
      "text/plain": [
       "Index(['Purchase ID', 'SN', 'Age', 'Gender', 'Item ID', 'Item Name', 'Price'], dtype='object')"
      ]
     },
     "execution_count": 22,
     "metadata": {},
     "output_type": "execute_result"
    }
   ],
   "source": [
    "# Dependencies and Setup\n",
    "import pandas as pd\n",
    "import numpy as np\n",
    "\n",
    "# File to Load (Remember to Change These)\n",
    "file_to_load = \"purchase_data.csv\"\n",
    "\n",
    "# Read Purchasing File and store into Pandas data frame\n",
    "prch_df = pd.read_csv(file_to_load)\n",
    "prch_df.columns"
   ]
  },
  {
   "cell_type": "markdown",
   "metadata": {},
   "source": [
    "## Player Count"
   ]
  },
  {
   "cell_type": "markdown",
   "metadata": {},
   "source": [
    "* Display the total number of players\n"
   ]
  },
  {
   "cell_type": "code",
   "execution_count": 23,
   "metadata": {},
   "outputs": [
    {
     "data": {
      "text/plain": [
       "576"
      ]
     },
     "execution_count": 23,
     "metadata": {},
     "output_type": "execute_result"
    }
   ],
   "source": [
    "prch_df[\"SN\"].nunique()"
   ]
  },
  {
   "cell_type": "markdown",
   "metadata": {},
   "source": [
    "## Purchasing Analysis (Total)"
   ]
  },
  {
   "cell_type": "markdown",
   "metadata": {},
   "source": [
    "* Run basic calculations to obtain number of unique items, average price, etc.\n",
    "\n",
    "\n",
    "* Create a summary data frame to hold the results\n",
    "\n",
    "\n",
    "* Optional: give the displayed data cleaner formatting\n",
    "\n",
    "\n",
    "* Display the summary data frame\n"
   ]
  },
  {
   "cell_type": "code",
   "execution_count": 24,
   "metadata": {
    "scrolled": true
   },
   "outputs": [
    {
     "data": {
      "text/html": [
       "<div>\n",
       "<style scoped>\n",
       "    .dataframe tbody tr th:only-of-type {\n",
       "        vertical-align: middle;\n",
       "    }\n",
       "\n",
       "    .dataframe tbody tr th {\n",
       "        vertical-align: top;\n",
       "    }\n",
       "\n",
       "    .dataframe thead th {\n",
       "        text-align: right;\n",
       "    }\n",
       "</style>\n",
       "<table border=\"1\" class=\"dataframe\">\n",
       "  <thead>\n",
       "    <tr style=\"text-align: right;\">\n",
       "      <th></th>\n",
       "      <th>Number of Unique Items</th>\n",
       "      <th>Average Price</th>\n",
       "      <th>Number of Purchases</th>\n",
       "      <th>Total Revenue</th>\n",
       "    </tr>\n",
       "  </thead>\n",
       "  <tbody>\n",
       "    <tr>\n",
       "      <th>0</th>\n",
       "      <td>183</td>\n",
       "      <td>$3.05</td>\n",
       "      <td>780</td>\n",
       "      <td>$2379.77</td>\n",
       "    </tr>\n",
       "  </tbody>\n",
       "</table>\n",
       "</div>"
      ],
      "text/plain": [
       "   Number of Unique Items Average Price  Number of Purchases Total Revenue\n",
       "0                     183         $3.05                  780      $2379.77"
      ]
     },
     "execution_count": 24,
     "metadata": {},
     "output_type": "execute_result"
    }
   ],
   "source": [
    "prch_summ = pd.DataFrame({\"Number of Unique Items\": prch_df[\"Item ID\"].nunique(),\n",
    "                            \"Average Price\": \"${0:.2f}\".format(prch_df[\"Price\"].mean()), \n",
    "                            \"Number of Purchases\": prch_df[\"Purchase ID\"].count(), \n",
    "                            \"Total Revenue\": \"${0:.2f}\".format(prch_df[\"Price\"].sum())},index=[0])\n",
    "prch_summ"
   ]
  },
  {
   "cell_type": "markdown",
   "metadata": {},
   "source": [
    "## Gender Demographics"
   ]
  },
  {
   "cell_type": "markdown",
   "metadata": {},
   "source": [
    "* Percentage and Count of Male Players\n",
    "\n",
    "\n",
    "* Percentage and Count of Female Players\n",
    "\n",
    "\n",
    "* Percentage and Count of Other / Non-Disclosed\n",
    "\n",
    "\n"
   ]
  },
  {
   "cell_type": "code",
   "execution_count": 107,
   "metadata": {},
   "outputs": [
    {
     "data": {
      "text/html": [
       "<div>\n",
       "<style scoped>\n",
       "    .dataframe tbody tr th:only-of-type {\n",
       "        vertical-align: middle;\n",
       "    }\n",
       "\n",
       "    .dataframe tbody tr th {\n",
       "        vertical-align: top;\n",
       "    }\n",
       "\n",
       "    .dataframe thead th {\n",
       "        text-align: right;\n",
       "    }\n",
       "</style>\n",
       "<table border=\"1\" class=\"dataframe\">\n",
       "  <thead>\n",
       "    <tr style=\"text-align: right;\">\n",
       "      <th></th>\n",
       "      <th>Gender</th>\n",
       "      <th>Total Count</th>\n",
       "      <th>Percentage of Players</th>\n",
       "    </tr>\n",
       "  </thead>\n",
       "  <tbody>\n",
       "    <tr>\n",
       "      <th>0</th>\n",
       "      <td>Male</td>\n",
       "      <td>484</td>\n",
       "      <td>84%</td>\n",
       "    </tr>\n",
       "    <tr>\n",
       "      <th>1</th>\n",
       "      <td>Female</td>\n",
       "      <td>81</td>\n",
       "      <td>14%</td>\n",
       "    </tr>\n",
       "    <tr>\n",
       "      <th>2</th>\n",
       "      <td>Other / Non-Disclosed</td>\n",
       "      <td>11</td>\n",
       "      <td>2%</td>\n",
       "    </tr>\n",
       "  </tbody>\n",
       "</table>\n",
       "</div>"
      ],
      "text/plain": [
       "                  Gender  Total Count Percentage of Players\n",
       "0                   Male          484                   84%\n",
       "1                 Female           81                   14%\n",
       "2  Other / Non-Disclosed           11                    2%"
      ]
     },
     "execution_count": 107,
     "metadata": {},
     "output_type": "execute_result"
    }
   ],
   "source": [
    "prch_unique = prch_df.drop_duplicates(subset = [\"SN\"])\n",
    "prch_unique.count()\n",
    "\n",
    "male_total = prch_unique.loc[prch_unique[\"Gender\"] == \"Male\"]\n",
    "female_total = prch_unique.loc[prch_unique[\"Gender\"] == \"Female\"]\n",
    "other_total = prch_unique.loc[prch_unique[\"Gender\"] == \"Other / Non-Disclosed\"]\n",
    "male_count = prch_unique.loc[prch_unique[\"Gender\"] == \"Male\"][\"SN\"].count()\n",
    "female_count = prch_unique.loc[prch_unique[\"Gender\"] == \"Female\"][\"SN\"].count()\n",
    "other_count = prch_unique.loc[prch_unique[\"Gender\"] == \"Other / Non-Disclosed\"][\"SN\"].count()\n",
    "pcnt_male = \"{0:.0f}%\".format(male_players/(male_players + female_players + other_players)*100)\n",
    "pcnt_female = \"{0:.0f}%\".format(female_players/(male_players + female_players + other_players)*100)\n",
    "pcnt_other = \"{0:.0f}%\".format(other_players/(male_players + female_players + other_players)*100)\n",
    "\n",
    "gender_df = pd.DataFrame({\"Gender\": [\"Male\", \"Female\", \"Other / Non-Disclosed\"], \n",
    "                          \"Total Count\": [male_players, female_players, other_players], \n",
    "                          \"Percentage of Players\": [pcnt_male, pcnt_female, pcnt_other]})\n",
    "gender_df.groupby([\"Gender\"])\n",
    "gender_df"
   ]
  },
  {
   "cell_type": "markdown",
   "metadata": {},
   "source": [
    "\n",
    "## Purchasing Analysis (Gender)"
   ]
  },
  {
   "cell_type": "markdown",
   "metadata": {},
   "source": [
    "* Run basic calculations to obtain purchase count, avg. purchase price, avg. purchase total per person etc. by gender\n",
    "\n",
    "\n",
    "\n",
    "\n",
    "* Create a summary data frame to hold the results\n",
    "\n",
    "\n",
    "* Optional: give the displayed data cleaner formatting\n",
    "\n",
    "\n",
    "* Display the summary data frame"
   ]
  },
  {
   "cell_type": "code",
   "execution_count": 106,
   "metadata": {},
   "outputs": [
    {
     "data": {
      "text/html": [
       "<div>\n",
       "<style scoped>\n",
       "    .dataframe tbody tr th:only-of-type {\n",
       "        vertical-align: middle;\n",
       "    }\n",
       "\n",
       "    .dataframe tbody tr th {\n",
       "        vertical-align: top;\n",
       "    }\n",
       "\n",
       "    .dataframe thead th {\n",
       "        text-align: right;\n",
       "    }\n",
       "</style>\n",
       "<table border=\"1\" class=\"dataframe\">\n",
       "  <thead>\n",
       "    <tr style=\"text-align: right;\">\n",
       "      <th></th>\n",
       "      <th>Gender</th>\n",
       "      <th>Purchase Count</th>\n",
       "      <th>Average Puchase Price</th>\n",
       "      <th>Total Purchase Value</th>\n",
       "      <th>Average Total Purchase Per Person</th>\n",
       "    </tr>\n",
       "  </thead>\n",
       "  <tbody>\n",
       "    <tr>\n",
       "      <th>0</th>\n",
       "      <td>Male</td>\n",
       "      <td>652</td>\n",
       "      <td>$3.02</td>\n",
       "      <td>$1967.64</td>\n",
       "      <td>392.52</td>\n",
       "    </tr>\n",
       "    <tr>\n",
       "      <th>1</th>\n",
       "      <td>Female</td>\n",
       "      <td>113</td>\n",
       "      <td>$3.20</td>\n",
       "      <td>$361.94</td>\n",
       "      <td>379.38</td>\n",
       "    </tr>\n",
       "    <tr>\n",
       "      <th>2</th>\n",
       "      <td>Other</td>\n",
       "      <td>15</td>\n",
       "      <td>$3.35</td>\n",
       "      <td>$50.19</td>\n",
       "      <td>334.60</td>\n",
       "    </tr>\n",
       "  </tbody>\n",
       "</table>\n",
       "</div>"
      ],
      "text/plain": [
       "   Gender  Purchase Count Average Puchase Price Total Purchase Value  \\\n",
       "0    Male             652                 $3.02             $1967.64   \n",
       "1  Female             113                 $3.20              $361.94   \n",
       "2   Other              15                 $3.35               $50.19   \n",
       "\n",
       "  Average Total Purchase Per Person  \n",
       "0                            392.52  \n",
       "1                            379.38  \n",
       "2                            334.60  "
      ]
     },
     "execution_count": 106,
     "metadata": {},
     "output_type": "execute_result"
    }
   ],
   "source": [
    "prch_unique.head()\n",
    "prch_count_male = prch_df[\"Purchase ID\"].loc[prch_df[\"Gender\"] == \"Male\"].count()\n",
    "prch_count_female = prch_df[\"Purchase ID\"].loc[prch_df[\"Gender\"] == \"Female\"].count()\n",
    "prch_count_other = prch_df[\"Purchase ID\"].loc[prch_df[\"Gender\"] == \"Other / Non-Disclosed\"].count()\n",
    "prch_px_avg_male = \"${0:.2f}\".format(prch_df[\"Price\"].loc[prch_df[\"Gender\"] == \"Male\"].mean())\n",
    "prch_px_avg_female = \"${0:.2f}\".format(prch_df[\"Price\"].loc[prch_df[\"Gender\"] == \"Female\"].mean())\n",
    "prch_px_avg_other = \"${0:.2f}\".format(prch_df[\"Price\"].loc[prch_df[\"Gender\"] == \"Other / Non-Disclosed\"].mean())\n",
    "prch_total_male = \"${0:.2f}\".format(prch_df[\"Price\"].loc[prch_df[\"Gender\"] == \"Male\"].sum())\n",
    "prch_total_female = \"${0:.2f}\".format(prch_df[\"Price\"].loc[prch_df[\"Gender\"] == \"Female\"].sum())\n",
    "prch_total_other = \"${0:.2f}\".format(prch_df[\"Price\"].loc[prch_df[\"Gender\"] == \"Other / Non-Disclosed\"].sum())\n",
    "prch_ttl_avg_male = \"{0:.2f}\".format(prch_df[\"Purchase ID\"].loc[prch_df[\"Gender\"] == \"Male\"].mean())\n",
    "prch_ttl_avg_female = \"{0:.2f}\".format(prch_df[\"Purchase ID\"].loc[prch_df[\"Gender\"] == \"Female\"].mean())\n",
    "prch_ttl_avg_other = \"{0:.2f}\".format(prch_df[\"Purchase ID\"].loc[prch_df[\"Gender\"] == \"Other / Non-Disclosed\"].mean())\n",
    "\n",
    "gender_prch_df = pd.DataFrame({\"Gender\": [\"Male\", \"Female\", \"Other\"], \n",
    "                               \"Purchase Count\": [prch_count_male, prch_count_female, prch_count_other],\n",
    "                               \"Average Puchase Price\": [prch_px_avg_male, prch_px_avg_female, prch_px_avg_other], \n",
    "                               \"Total Purchase Value\": [prch_total_male, prch_total_female, prch_total_other], \n",
    "                               \"Average Total Purchase Per Person\": [prch_ttl_avg_male, prch_ttl_avg_female, prch_ttl_avg_other]})\n",
    "gender_prch_df"
   ]
  },
  {
   "cell_type": "markdown",
   "metadata": {},
   "source": [
    "## Age Demographics"
   ]
  },
  {
   "cell_type": "markdown",
   "metadata": {},
   "source": [
    "* Establish bins for ages\n",
    "\n",
    "\n",
    "* Categorize the existing players using the age bins. Hint: use pd.cut()\n",
    "\n",
    "\n",
    "* Calculate the numbers and percentages by age group\n",
    "\n",
    "\n",
    "* Create a summary data frame to hold the results\n",
    "\n",
    "\n",
    "* Optional: round the percentage column to two decimal points\n",
    "\n",
    "\n",
    "* Display Age Demographics Table\n"
   ]
  },
  {
   "cell_type": "code",
   "execution_count": 183,
   "metadata": {},
   "outputs": [
    {
     "data": {
      "text/html": [
       "<div>\n",
       "<style scoped>\n",
       "    .dataframe tbody tr th:only-of-type {\n",
       "        vertical-align: middle;\n",
       "    }\n",
       "\n",
       "    .dataframe tbody tr th {\n",
       "        vertical-align: top;\n",
       "    }\n",
       "\n",
       "    .dataframe thead th {\n",
       "        text-align: right;\n",
       "    }\n",
       "</style>\n",
       "<table border=\"1\" class=\"dataframe\">\n",
       "  <thead>\n",
       "    <tr style=\"text-align: right;\">\n",
       "      <th></th>\n",
       "      <th>Age Summary</th>\n",
       "      <th>Total Count</th>\n",
       "      <th>Percentage of Players</th>\n",
       "    </tr>\n",
       "  </thead>\n",
       "  <tbody>\n",
       "    <tr>\n",
       "      <th>0</th>\n",
       "      <td>&lt;= 7</td>\n",
       "      <td>9</td>\n",
       "      <td>1.15%</td>\n",
       "    </tr>\n",
       "    <tr>\n",
       "      <th>1</th>\n",
       "      <td>8 - 20</td>\n",
       "      <td>277</td>\n",
       "      <td>35.51%</td>\n",
       "    </tr>\n",
       "    <tr>\n",
       "      <th>2</th>\n",
       "      <td>21 - 25</td>\n",
       "      <td>325</td>\n",
       "      <td>41.67%</td>\n",
       "    </tr>\n",
       "    <tr>\n",
       "      <th>3</th>\n",
       "      <td>26 - 30</td>\n",
       "      <td>77</td>\n",
       "      <td>9.87%</td>\n",
       "    </tr>\n",
       "    <tr>\n",
       "      <th>4</th>\n",
       "      <td>31 - 35</td>\n",
       "      <td>52</td>\n",
       "      <td>6.67%</td>\n",
       "    </tr>\n",
       "    <tr>\n",
       "      <th>5</th>\n",
       "      <td>36 - 40</td>\n",
       "      <td>33</td>\n",
       "      <td>4.23%</td>\n",
       "    </tr>\n",
       "    <tr>\n",
       "      <th>6</th>\n",
       "      <td>41 - 45</td>\n",
       "      <td>7</td>\n",
       "      <td>0.90%</td>\n",
       "    </tr>\n",
       "  </tbody>\n",
       "</table>\n",
       "</div>"
      ],
      "text/plain": [
       "  Age Summary  Total Count Percentage of Players\n",
       "0        <= 7            9                 1.15%\n",
       "1      8 - 20          277                35.51%\n",
       "2     21 - 25          325                41.67%\n",
       "3     26 - 30           77                 9.87%\n",
       "4     31 - 35           52                 6.67%\n",
       "5     36 - 40           33                 4.23%\n",
       "6     41 - 45            7                 0.90%"
      ]
     },
     "execution_count": 183,
     "metadata": {},
     "output_type": "execute_result"
    }
   ],
   "source": [
    "prch_df[\"Age\"].describe()\n",
    "bins = [0, 7, 20, 25, 30, 35, 40, 45]\n",
    "age_bins = [\"<= 7\", \n",
    "            \"8 - 20\", \n",
    "            \"21 - 25\", \n",
    "            \"26 - 30\", \n",
    "            \"31 - 35\", \n",
    "            \"36 - 40\", \n",
    "            \"41 - 45\"]\n",
    "\n",
    "age_total = prch_df[\"Age Summary\"].count()\n",
    "\n",
    "prch_df[\"Age Summary\"] = pd.cut(prch_df[\"Age\"], bins, labels = age_bins)\n",
    "\n",
    "A = prch_df.loc[prch_df[\"Age Summary\"] == \"<= 7\"][\"Age Summary\"].count()\n",
    "B = prch_df.loc[prch_df[\"Age Summary\"] == \"8 - 20\"][\"Age Summary\"].count()\n",
    "C = prch_df.loc[prch_df[\"Age Summary\"] == \"21 - 25\"][\"Age Summary\"].count()\n",
    "D = prch_df.loc[prch_df[\"Age Summary\"] == \"26 - 30\"][\"Age Summary\"].count()\n",
    "E = prch_df.loc[prch_df[\"Age Summary\"] == \"31 - 35\"][\"Age Summary\"].count()\n",
    "F = prch_df.loc[prch_df[\"Age Summary\"] == \"36 - 40\"][\"Age Summary\"].count()\n",
    "G = prch_df.loc[prch_df[\"Age Summary\"] == \"41 - 45\"][\"Age Summary\"].count()\n",
    "\n",
    "Aa = \"{0:.2f}%\".format((A/age_total)*100)\n",
    "Bb = \"{0:.2f}%\".format((B/age_total)*100)\n",
    "Cc = \"{0:.2f}%\".format((C/age_total)*100)\n",
    "Dd = \"{0:.2f}%\".format((D/age_total)*100)\n",
    "Ee = \"{0:.2f}%\".format((E/age_total)*100)\n",
    "Ff = \"{0:.2f}%\".format((F/age_total)*100)\n",
    "Gg = \"{0:.2f}%\".format((G/age_total)*100)\n",
    "\n",
    "age_summ = pd.DataFrame({\"Age Summary\": age_bins,\n",
    "                         \"Total Count\": [A, B, C, D, E, F, G], \n",
    "                         \"Percentage of Players\": [Aa, Bb, Cc, Dd, Ee, Ff, Gg]})\n",
    "age_summ.groupby([\"Age Summary\"])\n",
    "age_summ"
   ]
  },
  {
   "cell_type": "markdown",
   "metadata": {},
   "source": [
    "## Purchasing Analysis (Age)"
   ]
  },
  {
   "cell_type": "markdown",
   "metadata": {},
   "source": [
    "* Bin the purchase_data data frame by age\n",
    "\n",
    "\n",
    "* Run basic calculations to obtain purchase count, avg. purchase price, avg. purchase total per person etc. in the table below\n",
    "\n",
    "\n",
    "* Create a summary data frame to hold the results\n",
    "\n",
    "\n",
    "* Optional: give the displayed data cleaner formatting\n",
    "\n",
    "\n",
    "* Display the summary data frame"
   ]
  },
  {
   "cell_type": "code",
   "execution_count": 184,
   "metadata": {},
   "outputs": [
    {
     "data": {
      "text/html": [
       "<div>\n",
       "<style scoped>\n",
       "    .dataframe tbody tr th:only-of-type {\n",
       "        vertical-align: middle;\n",
       "    }\n",
       "\n",
       "    .dataframe tbody tr th {\n",
       "        vertical-align: top;\n",
       "    }\n",
       "\n",
       "    .dataframe thead th {\n",
       "        text-align: right;\n",
       "    }\n",
       "</style>\n",
       "<table border=\"1\" class=\"dataframe\">\n",
       "  <thead>\n",
       "    <tr style=\"text-align: right;\">\n",
       "      <th></th>\n",
       "      <th>Age Summary</th>\n",
       "      <th>Purchase Count</th>\n",
       "      <th>Average Purchase Price</th>\n",
       "      <th>Total Purchase Value</th>\n",
       "      <th>Average Total Purchase Per Person</th>\n",
       "    </tr>\n",
       "  </thead>\n",
       "  <tbody>\n",
       "    <tr>\n",
       "      <th>0</th>\n",
       "      <td>&lt;= 7</td>\n",
       "      <td>402.888889</td>\n",
       "      <td>$3.65</td>\n",
       "      <td>$32.89</td>\n",
       "      <td>402.888889</td>\n",
       "    </tr>\n",
       "    <tr>\n",
       "      <th>1</th>\n",
       "      <td>8 - 20</td>\n",
       "      <td>394.509025</td>\n",
       "      <td>$3.08</td>\n",
       "      <td>$854.23</td>\n",
       "      <td>394.509025</td>\n",
       "    </tr>\n",
       "    <tr>\n",
       "      <th>2</th>\n",
       "      <td>21 - 25</td>\n",
       "      <td>386.338462</td>\n",
       "      <td>$3.02</td>\n",
       "      <td>$981.64</td>\n",
       "      <td>386.338462</td>\n",
       "    </tr>\n",
       "    <tr>\n",
       "      <th>3</th>\n",
       "      <td>26 - 30</td>\n",
       "      <td>387.324675</td>\n",
       "      <td>$2.88</td>\n",
       "      <td>$221.42</td>\n",
       "      <td>387.324675</td>\n",
       "    </tr>\n",
       "    <tr>\n",
       "      <th>4</th>\n",
       "      <td>31 - 35</td>\n",
       "      <td>362.057692</td>\n",
       "      <td>$2.99</td>\n",
       "      <td>$155.71</td>\n",
       "      <td>362.057692</td>\n",
       "    </tr>\n",
       "    <tr>\n",
       "      <th>5</th>\n",
       "      <td>36 - 40</td>\n",
       "      <td>391.151515</td>\n",
       "      <td>$3.40</td>\n",
       "      <td>$112.35</td>\n",
       "      <td>391.151515</td>\n",
       "    </tr>\n",
       "    <tr>\n",
       "      <th>6</th>\n",
       "      <td>41 - 45</td>\n",
       "      <td>540.857143</td>\n",
       "      <td>$3.08</td>\n",
       "      <td>$21.53</td>\n",
       "      <td>540.857143</td>\n",
       "    </tr>\n",
       "  </tbody>\n",
       "</table>\n",
       "</div>"
      ],
      "text/plain": [
       "  Age Summary  Purchase Count Average Purchase Price Total Purchase Value  \\\n",
       "0        <= 7      402.888889                  $3.65               $32.89   \n",
       "1      8 - 20      394.509025                  $3.08              $854.23   \n",
       "2     21 - 25      386.338462                  $3.02              $981.64   \n",
       "3     26 - 30      387.324675                  $2.88              $221.42   \n",
       "4     31 - 35      362.057692                  $2.99              $155.71   \n",
       "5     36 - 40      391.151515                  $3.40              $112.35   \n",
       "6     41 - 45      540.857143                  $3.08               $21.53   \n",
       "\n",
       "   Average Total Purchase Per Person  \n",
       "0                         402.888889  \n",
       "1                         394.509025  \n",
       "2                         386.338462  \n",
       "3                         387.324675  \n",
       "4                         362.057692  \n",
       "5                         391.151515  \n",
       "6                         540.857143  "
      ]
     },
     "execution_count": 184,
     "metadata": {},
     "output_type": "execute_result"
    }
   ],
   "source": [
    "A_prch = prch_df[\"Purchase ID\"].loc[prch_df[\"Age Summary\"] == \"<= 7\"].count()\n",
    "B_prch = prch_df[\"Purchase ID\"].loc[prch_df[\"Age Summary\"] == \"8 - 20\"].count()\n",
    "C_prch = prch_df[\"Purchase ID\"].loc[prch_df[\"Age Summary\"] == \"21 - 25\"].count()\n",
    "D_prch = prch_df[\"Purchase ID\"].loc[prch_df[\"Age Summary\"] == \"26 - 30\"].count()\n",
    "E_prch = prch_df[\"Purchase ID\"].loc[prch_df[\"Age Summary\"] == \"31 - 35\"].count()\n",
    "F_prch = prch_df[\"Purchase ID\"].loc[prch_df[\"Age Summary\"] == \"36 - 40\"].count()\n",
    "G_prch = prch_df[\"Purchase ID\"].loc[prch_df[\"Age Summary\"] == \"41 - 45\"].count()\n",
    "\n",
    "Aa_px_avg = \"${0:.2f}\".format(prch_df[\"Price\"].loc[prch_df[\"Age Summary\"] == \"<= 7\"].mean())\n",
    "Bb_px_avg = \"${0:.2f}\".format(prch_df[\"Price\"].loc[prch_df[\"Age Summary\"] == \"8 - 20\"].mean())\n",
    "Cc_px_avg = \"${0:.2f}\".format(prch_df[\"Price\"].loc[prch_df[\"Age Summary\"] == \"21 - 25\"].mean())\n",
    "Dd_px_avg = \"${0:.2f}\".format(prch_df[\"Price\"].loc[prch_df[\"Age Summary\"] == \"26 - 30\"].mean())\n",
    "Ee_px_avg = \"${0:.2f}\".format(prch_df[\"Price\"].loc[prch_df[\"Age Summary\"] == \"31 - 35\"].mean())\n",
    "Ff_px_avg = \"${0:.2f}\".format(prch_df[\"Price\"].loc[prch_df[\"Age Summary\"] == \"36 - 40\"].mean())\n",
    "Gg_px_avg = \"${0:.2f}\".format(prch_df[\"Price\"].loc[prch_df[\"Age Summary\"] == \"41 - 45\"].mean())\n",
    "\n",
    "Aa_px_ttl = \"${0:.2f}\".format(prch_df[\"Price\"].loc[prch_df[\"Age Summary\"] == \"<= 7\"].sum())\n",
    "Bb_px_ttl = \"${0:.2f}\".format(prch_df[\"Price\"].loc[prch_df[\"Age Summary\"] == \"8 - 20\"].sum())\n",
    "Cc_px_ttl = \"${0:.2f}\".format(prch_df[\"Price\"].loc[prch_df[\"Age Summary\"] == \"21 - 25\"].sum())\n",
    "Dd_px_ttl = \"${0:.2f}\".format(prch_df[\"Price\"].loc[prch_df[\"Age Summary\"] == \"26 - 30\"].sum())\n",
    "Ee_px_ttl = \"${0:.2f}\".format(prch_df[\"Price\"].loc[prch_df[\"Age Summary\"] == \"31 - 35\"].sum())\n",
    "Ff_px_ttl = \"${0:.2f}\".format(prch_df[\"Price\"].loc[prch_df[\"Age Summary\"] == \"36 - 40\"].sum())\n",
    "Gg_px_ttl = \"${0:.2f}\".format(prch_df[\"Price\"].loc[prch_df[\"Age Summary\"] == \"41 - 45\"].sum())\n",
    "\n",
    "A_prch = prch_df[\"Purchase ID\"].loc[prch_df[\"Age Summary\"] == \"<= 7\"].mean()\n",
    "B_prch = prch_df[\"Purchase ID\"].loc[prch_df[\"Age Summary\"] == \"8 - 20\"].mean()\n",
    "C_prch = prch_df[\"Purchase ID\"].loc[prch_df[\"Age Summary\"] == \"21 - 25\"].mean()\n",
    "D_prch = prch_df[\"Purchase ID\"].loc[prch_df[\"Age Summary\"] == \"26 - 30\"].mean()\n",
    "E_prch = prch_df[\"Purchase ID\"].loc[prch_df[\"Age Summary\"] == \"31 - 35\"].mean()\n",
    "F_prch = prch_df[\"Purchase ID\"].loc[prch_df[\"Age Summary\"] == \"36 - 40\"].mean()\n",
    "G_prch = prch_df[\"Purchase ID\"].loc[prch_df[\"Age Summary\"] == \"41 - 45\"].mean()\n",
    "\n",
    "age_prch_summ = pd.DataFrame({\"Age Summary\": age_bins, \n",
    "                              \"Purchase Count\": [A_prch, \n",
    "                                                 B_prch, \n",
    "                                                 C_prch, \n",
    "                                                 D_prch, \n",
    "                                                 E_prch, \n",
    "                                                 F_prch, \n",
    "                                                 G_prch], \n",
    "                              \"Average Purchase Price\": [Aa_px_avg, \n",
    "                                                         Bb_px_avg, \n",
    "                                                         Cc_px_avg, \n",
    "                                                         Dd_px_avg, \n",
    "                                                         Ee_px_avg, \n",
    "                                                         Ff_px_avg, \n",
    "                                                         Gg_px_avg], \n",
    "                              \"Total Purchase Value\": [Aa_px_ttl,\n",
    "                                                       Bb_px_ttl,\n",
    "                                                       Cc_px_ttl,\n",
    "                                                       Dd_px_ttl,\n",
    "                                                       Ee_px_ttl,\n",
    "                                                       Ff_px_ttl,\n",
    "                                                       Gg_px_ttl], \n",
    "                              \"Average Total Purchase Per Person\": [A_prch,\n",
    "                                                                    B_prch,\n",
    "                                                                    C_prch,\n",
    "                                                                    D_prch,\n",
    "                                                                    E_prch,\n",
    "                                                                    F_prch,\n",
    "                                                                    G_prch]})\n",
    "age_prch_summ"
   ]
  },
  {
   "cell_type": "markdown",
   "metadata": {},
   "source": [
    "## Top Spenders"
   ]
  },
  {
   "cell_type": "markdown",
   "metadata": {},
   "source": [
    "* Run basic calculations to obtain the results in the table below\n",
    "\n",
    "\n",
    "* Create a summary data frame to hold the results\n",
    "\n",
    "\n",
    "* Sort the total purchase value column in descending order\n",
    "\n",
    "\n",
    "* Optional: give the displayed data cleaner formatting\n",
    "\n",
    "\n",
    "* Display a preview of the summary data frame\n",
    "\n"
   ]
  },
  {
   "cell_type": "markdown",
   "metadata": {},
   "source": [
    "## Most Popular Items"
   ]
  },
  {
   "cell_type": "code",
   "execution_count": 218,
   "metadata": {},
   "outputs": [
    {
     "data": {
      "text/plain": [
       "SN              Price\n",
       "Hada39          2.48     2\n",
       "Zontibe81       3.79     1\n",
       "Haerith37       1.66     1\n",
       "Haisurra41      4.40     1\n",
       "Haisrisuir60    4.19     1\n",
       "                2.67     1\n",
       "Haillyrgue51    4.60     1\n",
       "                2.52     1\n",
       "                2.38     1\n",
       "Hailaphos89     3.81     1\n",
       "Haestyphos66    1.97     1\n",
       "Haerithp41      4.40     1\n",
       "Haellysu29      3.77     1\n",
       "Frichjask31     4.43     1\n",
       "Haeladil46      3.81     1\n",
       "Haedairiadru51  3.09     1\n",
       "Hada39          3.61     1\n",
       "Frichynde86     1.63     1\n",
       "Frichossala54   3.08     1\n",
       "Frichosiala98   3.54     1\n",
       "Frichosia58     4.43     1\n",
       "Frichocesta66   4.82     1\n",
       "                3.55     1\n",
       "Hala31          1.02     1\n",
       "Halaecal66      2.22     1\n",
       "                4.89     1\n",
       "Heunadil74      1.54     1\n",
       "Hiral75         1.98     1\n",
       "Hilaerin92      3.61     1\n",
       "Hiasurria41     1.61     1\n",
       "                        ..\n",
       "Lisotesta51     1.94     1\n",
       "Lisossanya98    3.44     1\n",
       "Lisossala30     4.35     1\n",
       "Lisossa46       2.50     1\n",
       "Lisossa25       1.71     1\n",
       "Marilsanya48    3.03     1\n",
       "Marilsasya33    1.56     1\n",
       "Mindossa76      4.93     1\n",
       "Mindadaran26    3.75     1\n",
       "Mindjasksya61   2.60     1\n",
       "Mindista32      4.23     1\n",
       "Mindirranya33   3.87     1\n",
       "Mindimnya67     4.18     1\n",
       "Mindilsa60      1.28     1\n",
       "Mindilsa34      2.37     1\n",
       "Mindetosya30    3.16     1\n",
       "Mindesi74       3.85     1\n",
       "                1.63     1\n",
       "Meosridil82     4.90     1\n",
       "Marim28         1.00     1\n",
       "Marynde90       3.33     1\n",
       "                1.98     1\n",
       "Marundi65       1.75     1\n",
       "Marughi89       2.18     1\n",
       "Maropast28      4.76     1\n",
       "Marokian45      3.53     1\n",
       "Marjask87       1.44     1\n",
       "Marirrasta50    4.66     1\n",
       "Marim28         3.33     1\n",
       "Adairialis76    2.28     1\n",
       "Length: 779, dtype: int64"
      ]
     },
     "execution_count": 218,
     "metadata": {},
     "output_type": "execute_result"
    }
   ],
   "source": [
    "# prch_df.sort_values([\"SN\",\"Price\"],ascending=False).groupby(\"Price\").head(3)\n",
    "# prch_df.groupby([\"SN\", \"Price\", \"Purchase ID\"]).size().reset_index(name=\"counts\")\n",
    "# prch_df.groupby([\"SN\", \"Price\"]).size().sort_values(ascending=False)\n"
   ]
  },
  {
   "cell_type": "markdown",
   "metadata": {},
   "source": [
    "* Retrieve the Item ID, Item Name, and Item Price columns\n",
    "\n",
    "\n",
    "* Group by Item ID and Item Name. Perform calculations to obtain purchase count, item price, and total purchase value\n",
    "\n",
    "\n",
    "* Create a summary data frame to hold the results\n",
    "\n",
    "\n",
    "* Sort the purchase count column in descending order\n",
    "\n",
    "\n",
    "* Optional: give the displayed data cleaner formatting\n",
    "\n",
    "\n",
    "* Display a preview of the summary data frame\n",
    "\n"
   ]
  },
  {
   "cell_type": "code",
   "execution_count": null,
   "metadata": {},
   "outputs": [],
   "source": []
  },
  {
   "cell_type": "markdown",
   "metadata": {},
   "source": [
    "## Most Profitable Items"
   ]
  },
  {
   "cell_type": "markdown",
   "metadata": {},
   "source": [
    "* Sort the above table by total purchase value in descending order\n",
    "\n",
    "\n",
    "* Optional: give the displayed data cleaner formatting\n",
    "\n",
    "\n",
    "* Display a preview of the data frame\n",
    "\n"
   ]
  },
  {
   "cell_type": "code",
   "execution_count": null,
   "metadata": {
    "scrolled": true
   },
   "outputs": [],
   "source": []
  }
 ],
 "metadata": {
  "anaconda-cloud": {},
  "kernel_info": {
   "name": "python3"
  },
  "kernelspec": {
   "display_name": "Python 3",
   "language": "python",
   "name": "python3"
  },
  "language_info": {
   "codemirror_mode": {
    "name": "ipython",
    "version": 3
   },
   "file_extension": ".py",
   "mimetype": "text/x-python",
   "name": "python",
   "nbconvert_exporter": "python",
   "pygments_lexer": "ipython3",
   "version": "3.6.6"
  },
  "nteract": {
   "version": "0.2.0"
  }
 },
 "nbformat": 4,
 "nbformat_minor": 2
}
